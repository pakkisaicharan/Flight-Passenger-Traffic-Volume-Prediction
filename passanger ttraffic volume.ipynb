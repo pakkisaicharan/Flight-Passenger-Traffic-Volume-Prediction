{
 "cells": [
  {
   "cell_type": "code",
   "execution_count": 20,
   "id": "4cc8c7d8",
   "metadata": {},
   "outputs": [],
   "source": [
    "import pandas as pd\n",
    "data=pd.read_csv('Airlinewise Monthly International Air Traffic To And From The Indian Territory (1).csv')"
   ]
  },
  {
   "cell_type": "code",
   "execution_count": 21,
   "id": "9b111635",
   "metadata": {},
   "outputs": [
    {
     "data": {
      "application/vnd.microsoft.datawrangler.viewer.v0+json": {
       "columns": [
        {
         "name": "index",
         "rawType": "int64",
         "type": "integer"
        },
        {
         "name": "YEAR",
         "rawType": "int64",
         "type": "integer"
        },
        {
         "name": "MONTH",
         "rawType": "object",
         "type": "string"
        },
        {
         "name": "QUARTER",
         "rawType": "object",
         "type": "string"
        },
        {
         "name": "AIRLINE NAME",
         "rawType": "object",
         "type": "string"
        },
        {
         "name": "CARRIER TYPE",
         "rawType": "object",
         "type": "string"
        },
        {
         "name": "PASSENGERS TO INDIA",
         "rawType": "object",
         "type": "string"
        },
        {
         "name": "PASSENGERS FROM INDIA",
         "rawType": "int64",
         "type": "integer"
        },
        {
         "name": "FREIGHT TO INDIA",
         "rawType": "float64",
         "type": "float"
        },
        {
         "name": "FREIGHT FROM INDIA",
         "rawType": "float64",
         "type": "float"
        }
       ],
       "conversionMethod": "pd.DataFrame",
       "ref": "f9a7fe96-6b38-45af-ba3d-f164b9697ef6",
       "rows": [
        [
         "0",
         "2015",
         "JAN",
         "Q1",
         "AIR INDIA",
         "DOMESTIC",
         "258876",
         "274220",
         "3320.626",
         "4186.302"
        ],
        [
         "1",
         "2015",
         "JAN",
         "Q1",
         "AIR INDIA EXPRESS",
         "DOMESTIC",
         "95581",
         "116600",
         "0.0",
         null
        ],
        [
         "2",
         "2015",
         "JAN",
         "Q1",
         "INDIGO",
         "DOMESTIC",
         "68112",
         "74212",
         "320.0",
         "1812.0"
        ],
        [
         "3",
         "2015",
         "JAN",
         "Q1",
         "JET AIRWAYS",
         "DOMESTIC",
         "320853",
         "332116",
         "4173.874",
         "5383.515"
        ],
        [
         "4",
         "2015",
         "JAN",
         "Q1",
         "SPICEJET",
         "DOMESTIC",
         "37882",
         "42468",
         "0.0",
         "115.68"
        ]
       ],
       "shape": {
        "columns": 9,
        "rows": 5
       }
      },
      "text/html": [
       "<div>\n",
       "<style scoped>\n",
       "    .dataframe tbody tr th:only-of-type {\n",
       "        vertical-align: middle;\n",
       "    }\n",
       "\n",
       "    .dataframe tbody tr th {\n",
       "        vertical-align: top;\n",
       "    }\n",
       "\n",
       "    .dataframe thead th {\n",
       "        text-align: right;\n",
       "    }\n",
       "</style>\n",
       "<table border=\"1\" class=\"dataframe\">\n",
       "  <thead>\n",
       "    <tr style=\"text-align: right;\">\n",
       "      <th></th>\n",
       "      <th>YEAR</th>\n",
       "      <th>MONTH</th>\n",
       "      <th>QUARTER</th>\n",
       "      <th>AIRLINE NAME</th>\n",
       "      <th>CARRIER TYPE</th>\n",
       "      <th>PASSENGERS TO INDIA</th>\n",
       "      <th>PASSENGERS FROM INDIA</th>\n",
       "      <th>FREIGHT TO INDIA</th>\n",
       "      <th>FREIGHT FROM INDIA</th>\n",
       "    </tr>\n",
       "  </thead>\n",
       "  <tbody>\n",
       "    <tr>\n",
       "      <th>0</th>\n",
       "      <td>2015</td>\n",
       "      <td>JAN</td>\n",
       "      <td>Q1</td>\n",
       "      <td>AIR INDIA</td>\n",
       "      <td>DOMESTIC</td>\n",
       "      <td>258876</td>\n",
       "      <td>274220</td>\n",
       "      <td>3320.626</td>\n",
       "      <td>4186.302</td>\n",
       "    </tr>\n",
       "    <tr>\n",
       "      <th>1</th>\n",
       "      <td>2015</td>\n",
       "      <td>JAN</td>\n",
       "      <td>Q1</td>\n",
       "      <td>AIR INDIA EXPRESS</td>\n",
       "      <td>DOMESTIC</td>\n",
       "      <td>95581</td>\n",
       "      <td>116600</td>\n",
       "      <td>0.000</td>\n",
       "      <td>NaN</td>\n",
       "    </tr>\n",
       "    <tr>\n",
       "      <th>2</th>\n",
       "      <td>2015</td>\n",
       "      <td>JAN</td>\n",
       "      <td>Q1</td>\n",
       "      <td>INDIGO</td>\n",
       "      <td>DOMESTIC</td>\n",
       "      <td>68112</td>\n",
       "      <td>74212</td>\n",
       "      <td>320.000</td>\n",
       "      <td>1812.000</td>\n",
       "    </tr>\n",
       "    <tr>\n",
       "      <th>3</th>\n",
       "      <td>2015</td>\n",
       "      <td>JAN</td>\n",
       "      <td>Q1</td>\n",
       "      <td>JET AIRWAYS</td>\n",
       "      <td>DOMESTIC</td>\n",
       "      <td>320853</td>\n",
       "      <td>332116</td>\n",
       "      <td>4173.874</td>\n",
       "      <td>5383.515</td>\n",
       "    </tr>\n",
       "    <tr>\n",
       "      <th>4</th>\n",
       "      <td>2015</td>\n",
       "      <td>JAN</td>\n",
       "      <td>Q1</td>\n",
       "      <td>SPICEJET</td>\n",
       "      <td>DOMESTIC</td>\n",
       "      <td>37882</td>\n",
       "      <td>42468</td>\n",
       "      <td>0.000</td>\n",
       "      <td>115.680</td>\n",
       "    </tr>\n",
       "  </tbody>\n",
       "</table>\n",
       "</div>"
      ],
      "text/plain": [
       "   YEAR MONTH QUARTER       AIRLINE NAME CARRIER TYPE PASSENGERS TO INDIA  \\\n",
       "0  2015   JAN      Q1          AIR INDIA     DOMESTIC              258876   \n",
       "1  2015   JAN      Q1  AIR INDIA EXPRESS     DOMESTIC               95581   \n",
       "2  2015   JAN      Q1             INDIGO     DOMESTIC               68112   \n",
       "3  2015   JAN      Q1        JET AIRWAYS     DOMESTIC              320853   \n",
       "4  2015   JAN      Q1           SPICEJET     DOMESTIC               37882   \n",
       "\n",
       "   PASSENGERS FROM INDIA  FREIGHT TO INDIA  FREIGHT FROM INDIA  \n",
       "0                 274220          3320.626            4186.302  \n",
       "1                 116600             0.000                 NaN  \n",
       "2                  74212           320.000            1812.000  \n",
       "3                 332116          4173.874            5383.515  \n",
       "4                  42468             0.000             115.680  "
      ]
     },
     "execution_count": 21,
     "metadata": {},
     "output_type": "execute_result"
    }
   ],
   "source": [
    "data.head()"
   ]
  },
  {
   "cell_type": "code",
   "execution_count": 22,
   "id": "380e375c",
   "metadata": {},
   "outputs": [
    {
     "data": {
      "application/vnd.microsoft.datawrangler.viewer.v0+json": {
       "columns": [
        {
         "name": "index",
         "rawType": "int64",
         "type": "integer"
        },
        {
         "name": "YEAR",
         "rawType": "int64",
         "type": "integer"
        },
        {
         "name": "MONTH",
         "rawType": "object",
         "type": "string"
        },
        {
         "name": "QUARTER",
         "rawType": "object",
         "type": "string"
        },
        {
         "name": "AIRLINE NAME",
         "rawType": "object",
         "type": "string"
        },
        {
         "name": "CARRIER TYPE",
         "rawType": "object",
         "type": "string"
        },
        {
         "name": "PASSENGERS TO INDIA",
         "rawType": "object",
         "type": "unknown"
        },
        {
         "name": "PASSENGERS FROM INDIA",
         "rawType": "int64",
         "type": "integer"
        },
        {
         "name": "FREIGHT TO INDIA",
         "rawType": "float64",
         "type": "float"
        },
        {
         "name": "FREIGHT FROM INDIA",
         "rawType": "float64",
         "type": "float"
        }
       ],
       "conversionMethod": "pd.DataFrame",
       "ref": "cfeaa1a8-3260-4d33-99e5-0851044a367a",
       "rows": [
        [
         "0",
         "2015",
         "JAN",
         "Q1",
         "AIR INDIA",
         "DOMESTIC",
         "258876",
         "274220",
         "3320.626",
         "4186.302"
        ],
        [
         "1",
         "2015",
         "JAN",
         "Q1",
         "AIR INDIA EXPRESS",
         "DOMESTIC",
         "95581",
         "116600",
         "0.0",
         null
        ],
        [
         "2",
         "2015",
         "JAN",
         "Q1",
         "INDIGO",
         "DOMESTIC",
         "68112",
         "74212",
         "320.0",
         "1812.0"
        ],
        [
         "3",
         "2015",
         "JAN",
         "Q1",
         "JET AIRWAYS",
         "DOMESTIC",
         "320853",
         "332116",
         "4173.874",
         "5383.515"
        ],
        [
         "4",
         "2015",
         "JAN",
         "Q1",
         "SPICEJET",
         "DOMESTIC",
         "37882",
         "42468",
         "0.0",
         "115.68"
        ],
        [
         "5",
         "2015",
         "JAN",
         "Q1",
         "AEROFLOT",
         "FOREIGN",
         "5088",
         "6901",
         "7.581",
         "199.696"
        ],
        [
         "6",
         "2015",
         "JAN",
         "Q1",
         "AEROLOGIC",
         "FOREIGN",
         "Zero",
         "0",
         "1.409",
         "1.235"
        ],
        [
         "7",
         "2015",
         "JAN",
         "Q1",
         "AIR ARABIA",
         "FOREIGN",
         "77405",
         "79096",
         "191.549",
         "1096.201"
        ],
        [
         "8",
         "2015",
         "JAN",
         "Q1",
         "AIR ASIA BERHAD",
         "FOREIGN",
         "25906",
         "27950",
         "33.524",
         "307.431"
        ],
        [
         "9",
         "2015",
         "JAN",
         "Q1",
         "AIR AUSTRAL",
         "FOREIGN",
         null,
         "0",
         "0.0",
         "0.0"
        ],
        [
         "10",
         "2015",
         "JAN",
         "Q1",
         "AIR CHINA",
         "FOREIGN",
         "4004",
         "4047",
         "159.159",
         "191.009"
        ],
        [
         "11",
         "2015",
         "JAN",
         "Q1",
         "AIR FRANCE",
         "FOREIGN",
         "20204",
         "22839",
         "726.368",
         "1365.611"
        ],
        [
         "12",
         "2015",
         "JAN",
         "Q1",
         "AIR MANAS",
         "FOREIGN",
         null,
         "0",
         "0.0",
         "0.0"
        ],
        [
         "13",
         "2015",
         "JAN",
         "Q1",
         "AIR MAURITIUS",
         "FOREIGN",
         "5987",
         "7219",
         "27.508",
         "263.285"
        ],
        [
         "14",
         "2015",
         "JAN",
         "Q1",
         "AIR ASTANA",
         "FOREIGN",
         "2608",
         "3080",
         "0.0",
         "25.509"
        ],
        [
         "15",
         "2015",
         "JAN",
         "Q1",
         "AIR SEYCHELLES",
         "FOREIGN",
         "1253",
         "1300",
         "0.514",
         "1.635"
        ],
        [
         "16",
         "2015",
         "JAN",
         "Q1",
         "ALL NIPPON AIRWAYS",
         "FOREIGN",
         "4749",
         "6232",
         "138.017",
         "433.677"
        ],
        [
         "17",
         "2015",
         "JAN",
         "Q1",
         "ARIANA AFGHAN",
         "FOREIGN",
         "2342",
         "2276",
         "0.525",
         "8.38"
        ],
        [
         "18",
         "2015",
         "JAN",
         "Q1",
         "ASIANA AIRLINES",
         "FOREIGN",
         "3113",
         "3271",
         "23.322",
         "50.076"
        ],
        [
         "19",
         "2015",
         "JAN",
         "Q1",
         "AUSTRIAN AIRLINES",
         "FOREIGN",
         "4694",
         "5334",
         "159.844",
         "235.783"
        ],
        [
         "20",
         "2015",
         "JAN",
         "Q1",
         "BANGKOK AIRWAYS",
         "FOREIGN",
         "3924",
         "4094",
         "3.039",
         "65.793"
        ],
        [
         "21",
         "2015",
         "JAN",
         "Q1",
         "BHUTAN AIRLINES",
         "FOREIGN",
         "Zero",
         "0",
         "0.0",
         "0.0"
        ],
        [
         "22",
         "2015",
         "JAN",
         "Q1",
         "BIMAN BANGLADESH",
         "FOREIGN",
         "2313",
         "2950",
         "0.179",
         "66.32"
        ],
        [
         "23",
         "2015",
         "JAN",
         "Q1",
         "BRITISH AIRWAYS",
         "FOREIGN",
         "6096",
         "6578",
         "200.62",
         "378.5"
        ],
        [
         "24",
         "2015",
         "JAN",
         "Q1",
         "BUDHHA AIR",
         "FOREIGN",
         "213",
         "179",
         "0.0",
         "0.0"
        ],
        [
         "25",
         "2015",
         "JAN",
         "Q1",
         "CATHAY PACIFIC",
         "FOREIGN",
         "28540",
         "32556",
         "5063.944",
         "13006.667"
        ],
        [
         "26",
         "2015",
         "JAN",
         "Q1",
         "CHINA AIRLINES LTD",
         "FOREIGN",
         "1787",
         "3909",
         "69.317",
         "110.205"
        ],
        [
         "27",
         "2015",
         "JAN",
         "Q1",
         "CHINA EASTERN AIRLINES",
         "FOREIGN",
         "7880",
         "7451",
         "180.781",
         "204.954"
        ],
        [
         "28",
         "2015",
         "JAN",
         "Q1",
         "CHINA SOUTHERN ",
         "FOREIGN",
         "4836",
         "5105",
         "43.034",
         "74.131"
        ],
        [
         "29",
         "2015",
         "JAN",
         "Q1",
         "DELTA AIRLINES",
         "FOREIGN",
         "7292",
         "8183",
         "35.307",
         "3.205"
        ],
        [
         "30",
         "2015",
         "JAN",
         "Q1",
         "DRAGON AIR",
         "FOREIGN",
         "6788",
         "8033",
         "296.367",
         "221.835"
        ],
        [
         "31",
         "2015",
         "JAN",
         "Q1",
         "DRUK AIR",
         "FOREIGN",
         "3386",
         "2163",
         "0.369",
         "2.215"
        ],
        [
         "32",
         "2015",
         "JAN",
         "Q1",
         "EGYPT AIR",
         "FOREIGN",
         "1132",
         "1454",
         "5.404",
         "10.464"
        ],
        [
         "33",
         "2015",
         "JAN",
         "Q1",
         "EL-AL-ISRAEL",
         "FOREIGN",
         "3576",
         "3421",
         "79.783",
         "134.103"
        ],
        [
         "34",
         "2015",
         "JAN",
         "Q1",
         "EMIRATES AIRLINE",
         "FOREIGN",
         "246941",
         "256369",
         "3629.517",
         "11303.549"
        ],
        [
         "35",
         "2015",
         "JAN",
         "Q1",
         "ETHIOPIAN AIRLINES",
         "FOREIGN",
         "8990",
         "13206",
         "112.053",
         "983.557"
        ],
        [
         "36",
         "2015",
         "JAN",
         "Q1",
         "ETIHAD AIRLINES",
         "FOREIGN",
         "79148",
         "83464",
         "986.985",
         "1912.326"
        ],
        [
         "37",
         "2015",
         "JAN",
         "Q1",
         "EVA AIRWAYS",
         "FOREIGN",
         "0",
         "0",
         "0.0",
         "0.0"
        ],
        [
         "38",
         "2015",
         "JAN",
         "Q1",
         "FEDERAL EXPRESS",
         "FOREIGN",
         "0",
         "0",
         "1073.6",
         "1986.116"
        ],
        [
         "39",
         "2015",
         "JAN",
         "Q1",
         "FINN AIR",
         "FOREIGN",
         "4362",
         "5425",
         "177.154",
         "362.39"
        ],
        [
         "40",
         "2015",
         "JAN",
         "Q1",
         "FLY DUBAI",
         "FOREIGN",
         "17166",
         "18236",
         "10.062",
         "219.271"
        ],
        [
         "41",
         "2015",
         "JAN",
         "Q1",
         "GULF AIR",
         "FOREIGN",
         "36296",
         "38139",
         "160.5",
         "473.566"
        ],
        [
         "42",
         "2015",
         "JAN",
         "Q1",
         "IRAN AIR",
         "FOREIGN",
         "1492",
         "1169",
         "0.414",
         "40.501"
        ],
        [
         "43",
         "2015",
         "JAN",
         "Q1",
         "IRAQI AIRWAYS",
         "FOREIGN",
         "0",
         "0",
         "0.0",
         "0.0"
        ],
        [
         "44",
         "2015",
         "JAN",
         "Q1",
         "ISLAND AVIATION SERVICES",
         "FOREIGN",
         "6242",
         "7974",
         "9.17",
         "92.416"
        ],
        [
         "45",
         "2015",
         "JAN",
         "Q1",
         "JAPAN AIRLINES",
         "FOREIGN",
         "4439",
         "4085",
         "385.569",
         "282.414"
        ],
        [
         "46",
         "2015",
         "JAN",
         "Q1",
         "KALITTA AIR",
         "FOREIGN",
         "0",
         "0",
         "939.255",
         "902.37"
        ],
        [
         "47",
         "2015",
         "JAN",
         "Q1",
         "KAM AIR",
         "FOREIGN",
         "5000",
         "3000",
         "0.0",
         "250.125"
        ],
        [
         "48",
         "2015",
         "JAN",
         "Q1",
         "KENYA AIRWAYS",
         "FOREIGN",
         "6805",
         "9307",
         "18.153",
         "264.215"
        ],
        [
         "49",
         "2015",
         "JAN",
         "Q1",
         "KLM AIRLINES",
         "FOREIGN",
         "23614",
         "24722",
         "314.652",
         "650.026"
        ]
       ],
       "shape": {
        "columns": 9,
        "rows": 2334
       }
      },
      "text/html": [
       "<div>\n",
       "<style scoped>\n",
       "    .dataframe tbody tr th:only-of-type {\n",
       "        vertical-align: middle;\n",
       "    }\n",
       "\n",
       "    .dataframe tbody tr th {\n",
       "        vertical-align: top;\n",
       "    }\n",
       "\n",
       "    .dataframe thead th {\n",
       "        text-align: right;\n",
       "    }\n",
       "</style>\n",
       "<table border=\"1\" class=\"dataframe\">\n",
       "  <thead>\n",
       "    <tr style=\"text-align: right;\">\n",
       "      <th></th>\n",
       "      <th>YEAR</th>\n",
       "      <th>MONTH</th>\n",
       "      <th>QUARTER</th>\n",
       "      <th>AIRLINE NAME</th>\n",
       "      <th>CARRIER TYPE</th>\n",
       "      <th>PASSENGERS TO INDIA</th>\n",
       "      <th>PASSENGERS FROM INDIA</th>\n",
       "      <th>FREIGHT TO INDIA</th>\n",
       "      <th>FREIGHT FROM INDIA</th>\n",
       "    </tr>\n",
       "  </thead>\n",
       "  <tbody>\n",
       "    <tr>\n",
       "      <th>0</th>\n",
       "      <td>2015</td>\n",
       "      <td>JAN</td>\n",
       "      <td>Q1</td>\n",
       "      <td>AIR INDIA</td>\n",
       "      <td>DOMESTIC</td>\n",
       "      <td>258876</td>\n",
       "      <td>274220</td>\n",
       "      <td>3320.626</td>\n",
       "      <td>4186.302</td>\n",
       "    </tr>\n",
       "    <tr>\n",
       "      <th>1</th>\n",
       "      <td>2015</td>\n",
       "      <td>JAN</td>\n",
       "      <td>Q1</td>\n",
       "      <td>AIR INDIA EXPRESS</td>\n",
       "      <td>DOMESTIC</td>\n",
       "      <td>95581</td>\n",
       "      <td>116600</td>\n",
       "      <td>0.000</td>\n",
       "      <td>NaN</td>\n",
       "    </tr>\n",
       "    <tr>\n",
       "      <th>2</th>\n",
       "      <td>2015</td>\n",
       "      <td>JAN</td>\n",
       "      <td>Q1</td>\n",
       "      <td>INDIGO</td>\n",
       "      <td>DOMESTIC</td>\n",
       "      <td>68112</td>\n",
       "      <td>74212</td>\n",
       "      <td>320.000</td>\n",
       "      <td>1812.000</td>\n",
       "    </tr>\n",
       "    <tr>\n",
       "      <th>3</th>\n",
       "      <td>2015</td>\n",
       "      <td>JAN</td>\n",
       "      <td>Q1</td>\n",
       "      <td>JET AIRWAYS</td>\n",
       "      <td>DOMESTIC</td>\n",
       "      <td>320853</td>\n",
       "      <td>332116</td>\n",
       "      <td>4173.874</td>\n",
       "      <td>5383.515</td>\n",
       "    </tr>\n",
       "    <tr>\n",
       "      <th>4</th>\n",
       "      <td>2015</td>\n",
       "      <td>JAN</td>\n",
       "      <td>Q1</td>\n",
       "      <td>SPICEJET</td>\n",
       "      <td>DOMESTIC</td>\n",
       "      <td>37882</td>\n",
       "      <td>42468</td>\n",
       "      <td>0.000</td>\n",
       "      <td>115.680</td>\n",
       "    </tr>\n",
       "    <tr>\n",
       "      <th>...</th>\n",
       "      <td>...</td>\n",
       "      <td>...</td>\n",
       "      <td>...</td>\n",
       "      <td>...</td>\n",
       "      <td>...</td>\n",
       "      <td>...</td>\n",
       "      <td>...</td>\n",
       "      <td>...</td>\n",
       "      <td>...</td>\n",
       "    </tr>\n",
       "    <tr>\n",
       "      <th>2329</th>\n",
       "      <td>2017</td>\n",
       "      <td>MAR</td>\n",
       "      <td>Q1</td>\n",
       "      <td>UNITED PARCEL SERVICES</td>\n",
       "      <td>FOREIGN</td>\n",
       "      <td>0</td>\n",
       "      <td>0</td>\n",
       "      <td>646.800</td>\n",
       "      <td>433.100</td>\n",
       "    </tr>\n",
       "    <tr>\n",
       "      <th>2330</th>\n",
       "      <td>2017</td>\n",
       "      <td>MAR</td>\n",
       "      <td>Q1</td>\n",
       "      <td>US BANGLA AIRLINES</td>\n",
       "      <td>FOREIGN</td>\n",
       "      <td>4597</td>\n",
       "      <td>4595</td>\n",
       "      <td>0.000</td>\n",
       "      <td>0.000</td>\n",
       "    </tr>\n",
       "    <tr>\n",
       "      <th>2331</th>\n",
       "      <td>2017</td>\n",
       "      <td>MAR</td>\n",
       "      <td>Q1</td>\n",
       "      <td>UZBEKISTAN AIRWAYS</td>\n",
       "      <td>FOREIGN</td>\n",
       "      <td>4311</td>\n",
       "      <td>5048</td>\n",
       "      <td>386.300</td>\n",
       "      <td>494.900</td>\n",
       "    </tr>\n",
       "    <tr>\n",
       "      <th>2332</th>\n",
       "      <td>2017</td>\n",
       "      <td>MAR</td>\n",
       "      <td>Q1</td>\n",
       "      <td>VIRGIN ATLANTIC AIRLINES</td>\n",
       "      <td>FOREIGN</td>\n",
       "      <td>7131</td>\n",
       "      <td>7810</td>\n",
       "      <td>236.700</td>\n",
       "      <td>513.800</td>\n",
       "    </tr>\n",
       "    <tr>\n",
       "      <th>2333</th>\n",
       "      <td>2017</td>\n",
       "      <td>MAR</td>\n",
       "      <td>Q1</td>\n",
       "      <td>YEMENIA AIRWAYS</td>\n",
       "      <td>FOREIGN</td>\n",
       "      <td>622</td>\n",
       "      <td>715</td>\n",
       "      <td>0.000</td>\n",
       "      <td>6.300</td>\n",
       "    </tr>\n",
       "  </tbody>\n",
       "</table>\n",
       "<p>2334 rows × 9 columns</p>\n",
       "</div>"
      ],
      "text/plain": [
       "      YEAR MONTH QUARTER              AIRLINE NAME CARRIER TYPE  \\\n",
       "0     2015   JAN      Q1                 AIR INDIA     DOMESTIC   \n",
       "1     2015   JAN      Q1         AIR INDIA EXPRESS     DOMESTIC   \n",
       "2     2015   JAN      Q1                    INDIGO     DOMESTIC   \n",
       "3     2015   JAN      Q1               JET AIRWAYS     DOMESTIC   \n",
       "4     2015   JAN      Q1                  SPICEJET     DOMESTIC   \n",
       "...    ...   ...     ...                       ...          ...   \n",
       "2329  2017   MAR      Q1    UNITED PARCEL SERVICES      FOREIGN   \n",
       "2330  2017   MAR      Q1        US BANGLA AIRLINES      FOREIGN   \n",
       "2331  2017   MAR      Q1        UZBEKISTAN AIRWAYS      FOREIGN   \n",
       "2332  2017   MAR      Q1  VIRGIN ATLANTIC AIRLINES      FOREIGN   \n",
       "2333  2017   MAR      Q1           YEMENIA AIRWAYS      FOREIGN   \n",
       "\n",
       "     PASSENGERS TO INDIA  PASSENGERS FROM INDIA  FREIGHT TO INDIA  \\\n",
       "0                 258876                 274220          3320.626   \n",
       "1                  95581                 116600             0.000   \n",
       "2                  68112                  74212           320.000   \n",
       "3                 320853                 332116          4173.874   \n",
       "4                  37882                  42468             0.000   \n",
       "...                  ...                    ...               ...   \n",
       "2329                   0                      0           646.800   \n",
       "2330                4597                   4595             0.000   \n",
       "2331                4311                   5048           386.300   \n",
       "2332                7131                   7810           236.700   \n",
       "2333                 622                    715             0.000   \n",
       "\n",
       "      FREIGHT FROM INDIA  \n",
       "0               4186.302  \n",
       "1                    NaN  \n",
       "2               1812.000  \n",
       "3               5383.515  \n",
       "4                115.680  \n",
       "...                  ...  \n",
       "2329             433.100  \n",
       "2330               0.000  \n",
       "2331             494.900  \n",
       "2332             513.800  \n",
       "2333               6.300  \n",
       "\n",
       "[2334 rows x 9 columns]"
      ]
     },
     "execution_count": 22,
     "metadata": {},
     "output_type": "execute_result"
    }
   ],
   "source": [
    "data"
   ]
  },
  {
   "cell_type": "code",
   "execution_count": 23,
   "id": "8dbd2ffd",
   "metadata": {},
   "outputs": [
    {
     "data": {
      "text/plain": [
       "Index(['YEAR', 'MONTH', 'QUARTER', 'AIRLINE NAME', 'CARRIER TYPE',\n",
       "       'PASSENGERS TO INDIA', 'PASSENGERS FROM INDIA', 'FREIGHT TO INDIA',\n",
       "       'FREIGHT FROM INDIA'],\n",
       "      dtype='object')"
      ]
     },
     "execution_count": 23,
     "metadata": {},
     "output_type": "execute_result"
    }
   ],
   "source": [
    "data.columns"
   ]
  },
  {
   "cell_type": "code",
   "execution_count": 24,
   "id": "3527a4e0",
   "metadata": {},
   "outputs": [
    {
     "data": {
      "text/plain": [
       "CARRIER TYPE\n",
       "FOREIGN     2199\n",
       "DOMESTIC     135\n",
       "Name: count, dtype: int64"
      ]
     },
     "execution_count": 24,
     "metadata": {},
     "output_type": "execute_result"
    }
   ],
   "source": [
    "data['CARRIER TYPE'].value_counts()"
   ]
  },
  {
   "cell_type": "code",
   "execution_count": 25,
   "id": "15cd0127",
   "metadata": {},
   "outputs": [],
   "source": [
    "df=data"
   ]
  },
  {
   "cell_type": "code",
   "execution_count": 26,
   "id": "8d2b5a30",
   "metadata": {},
   "outputs": [],
   "source": [
    "# Convert 'PASSENGERS TO INDIA' to numeric, coercing errors to NaN\n",
    "df['PASSENGERS TO INDIA'] = pd.to_numeric(df['PASSENGERS TO INDIA'], errors='coerce')"
   ]
  },
  {
   "cell_type": "code",
   "execution_count": 27,
   "id": "0184926d",
   "metadata": {},
   "outputs": [],
   "source": [
    "# Create a new column for total passenger volume\n",
    "df['TOTAL PASSENGERS'] = df['PASSENGERS TO INDIA'] + df['PASSENGERS FROM INDIA']\n",
    "\n",
    "df.drop(columns=['PASSENGERS TO INDIA','PASSENGERS FROM INDIA','FREIGHT TO INDIA','FREIGHT FROM INDIA'],axis=1,inplace=True)\n"
   ]
  },
  {
   "cell_type": "code",
   "execution_count": 28,
   "id": "0713e301",
   "metadata": {},
   "outputs": [
    {
     "data": {
      "application/vnd.microsoft.datawrangler.viewer.v0+json": {
       "columns": [
        {
         "name": "index",
         "rawType": "int64",
         "type": "integer"
        },
        {
         "name": "YEAR",
         "rawType": "int64",
         "type": "integer"
        },
        {
         "name": "MONTH",
         "rawType": "object",
         "type": "string"
        },
        {
         "name": "QUARTER",
         "rawType": "object",
         "type": "string"
        },
        {
         "name": "AIRLINE NAME",
         "rawType": "object",
         "type": "string"
        },
        {
         "name": "CARRIER TYPE",
         "rawType": "object",
         "type": "string"
        },
        {
         "name": "TOTAL PASSENGERS",
         "rawType": "float64",
         "type": "float"
        }
       ],
       "conversionMethod": "pd.DataFrame",
       "ref": "bd459459-ecc5-476a-b685-980f432ad669",
       "rows": [
        [
         "0",
         "2015",
         "JAN",
         "Q1",
         "AIR INDIA",
         "DOMESTIC",
         "533096.0"
        ],
        [
         "1",
         "2015",
         "JAN",
         "Q1",
         "AIR INDIA EXPRESS",
         "DOMESTIC",
         "212181.0"
        ],
        [
         "2",
         "2015",
         "JAN",
         "Q1",
         "INDIGO",
         "DOMESTIC",
         "142324.0"
        ],
        [
         "3",
         "2015",
         "JAN",
         "Q1",
         "JET AIRWAYS",
         "DOMESTIC",
         "652969.0"
        ],
        [
         "4",
         "2015",
         "JAN",
         "Q1",
         "SPICEJET",
         "DOMESTIC",
         "80350.0"
        ],
        [
         "5",
         "2015",
         "JAN",
         "Q1",
         "AEROFLOT",
         "FOREIGN",
         "11989.0"
        ],
        [
         "6",
         "2015",
         "JAN",
         "Q1",
         "AEROLOGIC",
         "FOREIGN",
         null
        ],
        [
         "7",
         "2015",
         "JAN",
         "Q1",
         "AIR ARABIA",
         "FOREIGN",
         "156501.0"
        ],
        [
         "8",
         "2015",
         "JAN",
         "Q1",
         "AIR ASIA BERHAD",
         "FOREIGN",
         "53856.0"
        ],
        [
         "9",
         "2015",
         "JAN",
         "Q1",
         "AIR AUSTRAL",
         "FOREIGN",
         null
        ],
        [
         "10",
         "2015",
         "JAN",
         "Q1",
         "AIR CHINA",
         "FOREIGN",
         "8051.0"
        ],
        [
         "11",
         "2015",
         "JAN",
         "Q1",
         "AIR FRANCE",
         "FOREIGN",
         "43043.0"
        ],
        [
         "12",
         "2015",
         "JAN",
         "Q1",
         "AIR MANAS",
         "FOREIGN",
         null
        ],
        [
         "13",
         "2015",
         "JAN",
         "Q1",
         "AIR MAURITIUS",
         "FOREIGN",
         "13206.0"
        ],
        [
         "14",
         "2015",
         "JAN",
         "Q1",
         "AIR ASTANA",
         "FOREIGN",
         "5688.0"
        ],
        [
         "15",
         "2015",
         "JAN",
         "Q1",
         "AIR SEYCHELLES",
         "FOREIGN",
         "2553.0"
        ],
        [
         "16",
         "2015",
         "JAN",
         "Q1",
         "ALL NIPPON AIRWAYS",
         "FOREIGN",
         "10981.0"
        ],
        [
         "17",
         "2015",
         "JAN",
         "Q1",
         "ARIANA AFGHAN",
         "FOREIGN",
         "4618.0"
        ],
        [
         "18",
         "2015",
         "JAN",
         "Q1",
         "ASIANA AIRLINES",
         "FOREIGN",
         "6384.0"
        ],
        [
         "19",
         "2015",
         "JAN",
         "Q1",
         "AUSTRIAN AIRLINES",
         "FOREIGN",
         "10028.0"
        ],
        [
         "20",
         "2015",
         "JAN",
         "Q1",
         "BANGKOK AIRWAYS",
         "FOREIGN",
         "8018.0"
        ],
        [
         "21",
         "2015",
         "JAN",
         "Q1",
         "BHUTAN AIRLINES",
         "FOREIGN",
         null
        ],
        [
         "22",
         "2015",
         "JAN",
         "Q1",
         "BIMAN BANGLADESH",
         "FOREIGN",
         "5263.0"
        ],
        [
         "23",
         "2015",
         "JAN",
         "Q1",
         "BRITISH AIRWAYS",
         "FOREIGN",
         "12674.0"
        ],
        [
         "24",
         "2015",
         "JAN",
         "Q1",
         "BUDHHA AIR",
         "FOREIGN",
         "392.0"
        ],
        [
         "25",
         "2015",
         "JAN",
         "Q1",
         "CATHAY PACIFIC",
         "FOREIGN",
         "61096.0"
        ],
        [
         "26",
         "2015",
         "JAN",
         "Q1",
         "CHINA AIRLINES LTD",
         "FOREIGN",
         "5696.0"
        ],
        [
         "27",
         "2015",
         "JAN",
         "Q1",
         "CHINA EASTERN AIRLINES",
         "FOREIGN",
         "15331.0"
        ],
        [
         "28",
         "2015",
         "JAN",
         "Q1",
         "CHINA SOUTHERN ",
         "FOREIGN",
         "9941.0"
        ],
        [
         "29",
         "2015",
         "JAN",
         "Q1",
         "DELTA AIRLINES",
         "FOREIGN",
         "15475.0"
        ],
        [
         "30",
         "2015",
         "JAN",
         "Q1",
         "DRAGON AIR",
         "FOREIGN",
         "14821.0"
        ],
        [
         "31",
         "2015",
         "JAN",
         "Q1",
         "DRUK AIR",
         "FOREIGN",
         "5549.0"
        ],
        [
         "32",
         "2015",
         "JAN",
         "Q1",
         "EGYPT AIR",
         "FOREIGN",
         "2586.0"
        ],
        [
         "33",
         "2015",
         "JAN",
         "Q1",
         "EL-AL-ISRAEL",
         "FOREIGN",
         "6997.0"
        ],
        [
         "34",
         "2015",
         "JAN",
         "Q1",
         "EMIRATES AIRLINE",
         "FOREIGN",
         "503310.0"
        ],
        [
         "35",
         "2015",
         "JAN",
         "Q1",
         "ETHIOPIAN AIRLINES",
         "FOREIGN",
         "22196.0"
        ],
        [
         "36",
         "2015",
         "JAN",
         "Q1",
         "ETIHAD AIRLINES",
         "FOREIGN",
         "162612.0"
        ],
        [
         "37",
         "2015",
         "JAN",
         "Q1",
         "EVA AIRWAYS",
         "FOREIGN",
         "0.0"
        ],
        [
         "38",
         "2015",
         "JAN",
         "Q1",
         "FEDERAL EXPRESS",
         "FOREIGN",
         "0.0"
        ],
        [
         "39",
         "2015",
         "JAN",
         "Q1",
         "FINN AIR",
         "FOREIGN",
         "9787.0"
        ],
        [
         "40",
         "2015",
         "JAN",
         "Q1",
         "FLY DUBAI",
         "FOREIGN",
         "35402.0"
        ],
        [
         "41",
         "2015",
         "JAN",
         "Q1",
         "GULF AIR",
         "FOREIGN",
         "74435.0"
        ],
        [
         "42",
         "2015",
         "JAN",
         "Q1",
         "IRAN AIR",
         "FOREIGN",
         "2661.0"
        ],
        [
         "43",
         "2015",
         "JAN",
         "Q1",
         "IRAQI AIRWAYS",
         "FOREIGN",
         "0.0"
        ],
        [
         "44",
         "2015",
         "JAN",
         "Q1",
         "ISLAND AVIATION SERVICES",
         "FOREIGN",
         "14216.0"
        ],
        [
         "45",
         "2015",
         "JAN",
         "Q1",
         "JAPAN AIRLINES",
         "FOREIGN",
         "8524.0"
        ],
        [
         "46",
         "2015",
         "JAN",
         "Q1",
         "KALITTA AIR",
         "FOREIGN",
         "0.0"
        ],
        [
         "47",
         "2015",
         "JAN",
         "Q1",
         "KAM AIR",
         "FOREIGN",
         "8000.0"
        ],
        [
         "48",
         "2015",
         "JAN",
         "Q1",
         "KENYA AIRWAYS",
         "FOREIGN",
         "16112.0"
        ],
        [
         "49",
         "2015",
         "JAN",
         "Q1",
         "KLM AIRLINES",
         "FOREIGN",
         "48336.0"
        ]
       ],
       "shape": {
        "columns": 6,
        "rows": 2334
       }
      },
      "text/html": [
       "<div>\n",
       "<style scoped>\n",
       "    .dataframe tbody tr th:only-of-type {\n",
       "        vertical-align: middle;\n",
       "    }\n",
       "\n",
       "    .dataframe tbody tr th {\n",
       "        vertical-align: top;\n",
       "    }\n",
       "\n",
       "    .dataframe thead th {\n",
       "        text-align: right;\n",
       "    }\n",
       "</style>\n",
       "<table border=\"1\" class=\"dataframe\">\n",
       "  <thead>\n",
       "    <tr style=\"text-align: right;\">\n",
       "      <th></th>\n",
       "      <th>YEAR</th>\n",
       "      <th>MONTH</th>\n",
       "      <th>QUARTER</th>\n",
       "      <th>AIRLINE NAME</th>\n",
       "      <th>CARRIER TYPE</th>\n",
       "      <th>TOTAL PASSENGERS</th>\n",
       "    </tr>\n",
       "  </thead>\n",
       "  <tbody>\n",
       "    <tr>\n",
       "      <th>0</th>\n",
       "      <td>2015</td>\n",
       "      <td>JAN</td>\n",
       "      <td>Q1</td>\n",
       "      <td>AIR INDIA</td>\n",
       "      <td>DOMESTIC</td>\n",
       "      <td>533096.0</td>\n",
       "    </tr>\n",
       "    <tr>\n",
       "      <th>1</th>\n",
       "      <td>2015</td>\n",
       "      <td>JAN</td>\n",
       "      <td>Q1</td>\n",
       "      <td>AIR INDIA EXPRESS</td>\n",
       "      <td>DOMESTIC</td>\n",
       "      <td>212181.0</td>\n",
       "    </tr>\n",
       "    <tr>\n",
       "      <th>2</th>\n",
       "      <td>2015</td>\n",
       "      <td>JAN</td>\n",
       "      <td>Q1</td>\n",
       "      <td>INDIGO</td>\n",
       "      <td>DOMESTIC</td>\n",
       "      <td>142324.0</td>\n",
       "    </tr>\n",
       "    <tr>\n",
       "      <th>3</th>\n",
       "      <td>2015</td>\n",
       "      <td>JAN</td>\n",
       "      <td>Q1</td>\n",
       "      <td>JET AIRWAYS</td>\n",
       "      <td>DOMESTIC</td>\n",
       "      <td>652969.0</td>\n",
       "    </tr>\n",
       "    <tr>\n",
       "      <th>4</th>\n",
       "      <td>2015</td>\n",
       "      <td>JAN</td>\n",
       "      <td>Q1</td>\n",
       "      <td>SPICEJET</td>\n",
       "      <td>DOMESTIC</td>\n",
       "      <td>80350.0</td>\n",
       "    </tr>\n",
       "    <tr>\n",
       "      <th>...</th>\n",
       "      <td>...</td>\n",
       "      <td>...</td>\n",
       "      <td>...</td>\n",
       "      <td>...</td>\n",
       "      <td>...</td>\n",
       "      <td>...</td>\n",
       "    </tr>\n",
       "    <tr>\n",
       "      <th>2329</th>\n",
       "      <td>2017</td>\n",
       "      <td>MAR</td>\n",
       "      <td>Q1</td>\n",
       "      <td>UNITED PARCEL SERVICES</td>\n",
       "      <td>FOREIGN</td>\n",
       "      <td>0.0</td>\n",
       "    </tr>\n",
       "    <tr>\n",
       "      <th>2330</th>\n",
       "      <td>2017</td>\n",
       "      <td>MAR</td>\n",
       "      <td>Q1</td>\n",
       "      <td>US BANGLA AIRLINES</td>\n",
       "      <td>FOREIGN</td>\n",
       "      <td>9192.0</td>\n",
       "    </tr>\n",
       "    <tr>\n",
       "      <th>2331</th>\n",
       "      <td>2017</td>\n",
       "      <td>MAR</td>\n",
       "      <td>Q1</td>\n",
       "      <td>UZBEKISTAN AIRWAYS</td>\n",
       "      <td>FOREIGN</td>\n",
       "      <td>9359.0</td>\n",
       "    </tr>\n",
       "    <tr>\n",
       "      <th>2332</th>\n",
       "      <td>2017</td>\n",
       "      <td>MAR</td>\n",
       "      <td>Q1</td>\n",
       "      <td>VIRGIN ATLANTIC AIRLINES</td>\n",
       "      <td>FOREIGN</td>\n",
       "      <td>14941.0</td>\n",
       "    </tr>\n",
       "    <tr>\n",
       "      <th>2333</th>\n",
       "      <td>2017</td>\n",
       "      <td>MAR</td>\n",
       "      <td>Q1</td>\n",
       "      <td>YEMENIA AIRWAYS</td>\n",
       "      <td>FOREIGN</td>\n",
       "      <td>1337.0</td>\n",
       "    </tr>\n",
       "  </tbody>\n",
       "</table>\n",
       "<p>2334 rows × 6 columns</p>\n",
       "</div>"
      ],
      "text/plain": [
       "      YEAR MONTH QUARTER              AIRLINE NAME CARRIER TYPE  \\\n",
       "0     2015   JAN      Q1                 AIR INDIA     DOMESTIC   \n",
       "1     2015   JAN      Q1         AIR INDIA EXPRESS     DOMESTIC   \n",
       "2     2015   JAN      Q1                    INDIGO     DOMESTIC   \n",
       "3     2015   JAN      Q1               JET AIRWAYS     DOMESTIC   \n",
       "4     2015   JAN      Q1                  SPICEJET     DOMESTIC   \n",
       "...    ...   ...     ...                       ...          ...   \n",
       "2329  2017   MAR      Q1    UNITED PARCEL SERVICES      FOREIGN   \n",
       "2330  2017   MAR      Q1        US BANGLA AIRLINES      FOREIGN   \n",
       "2331  2017   MAR      Q1        UZBEKISTAN AIRWAYS      FOREIGN   \n",
       "2332  2017   MAR      Q1  VIRGIN ATLANTIC AIRLINES      FOREIGN   \n",
       "2333  2017   MAR      Q1           YEMENIA AIRWAYS      FOREIGN   \n",
       "\n",
       "      TOTAL PASSENGERS  \n",
       "0             533096.0  \n",
       "1             212181.0  \n",
       "2             142324.0  \n",
       "3             652969.0  \n",
       "4              80350.0  \n",
       "...                ...  \n",
       "2329               0.0  \n",
       "2330            9192.0  \n",
       "2331            9359.0  \n",
       "2332           14941.0  \n",
       "2333            1337.0  \n",
       "\n",
       "[2334 rows x 6 columns]"
      ]
     },
     "execution_count": 28,
     "metadata": {},
     "output_type": "execute_result"
    }
   ],
   "source": [
    "df"
   ]
  },
  {
   "cell_type": "code",
   "execution_count": 29,
   "id": "d0ac11be",
   "metadata": {},
   "outputs": [
    {
     "name": "stdout",
     "output_type": "stream",
     "text": [
      "<class 'pandas.core.frame.DataFrame'>\n",
      "RangeIndex: 2334 entries, 0 to 2333\n",
      "Data columns (total 6 columns):\n",
      " #   Column            Non-Null Count  Dtype  \n",
      "---  ------            --------------  -----  \n",
      " 0   YEAR              2334 non-null   int64  \n",
      " 1   MONTH             2334 non-null   object \n",
      " 2   QUARTER           2334 non-null   object \n",
      " 3   AIRLINE NAME      2334 non-null   object \n",
      " 4   CARRIER TYPE      2334 non-null   object \n",
      " 5   TOTAL PASSENGERS  2329 non-null   float64\n",
      "dtypes: float64(1), int64(1), object(4)\n",
      "memory usage: 109.5+ KB\n"
     ]
    }
   ],
   "source": [
    "df.info()"
   ]
  },
  {
   "cell_type": "code",
   "execution_count": 50,
   "id": "c9caa126",
   "metadata": {
    "vscode": {
     "languageId": "ruby"
    }
   },
   "outputs": [
    {
     "data": {
      "image/png": "[encoded data removed]",
      "text/plain": [
       "<Figure size 1200x800 with 1 Axes>"
      ]
     },
     "metadata": {},
     "output_type": "display_data"
    }
   ],
   "source": [
    "# Reverse the airline_mapping dictionary\n",
    "reverse_airline_mapping = {v: k for k, v in airline_mapping.items()}\n",
    "\n",
    "# Replace encoded airline names with actual names\n",
    "df['AIRLINE NAME'] = df['AIRLINE NAME'].map(reverse_airline_mapping)\n",
    "\n",
    "# Group data by airline and sum the total passengers\n",
    "passengers_by_airline = df.groupby('AIRLINE NAME')['TOTAL PASSENGERS'].sum().sort_values(ascending=False)\n",
    "\n",
    "# Plot the data\n",
    "plt.figure(figsize=(12, 8))\n",
    "passengers_by_airline.head(10).plot(kind='bar', color='orange')  # Display top 10 airlines\n",
    "plt.title('Top 10 Airlines by Total Passengers')\n",
    "plt.xlabel('Airline Name')\n",
    "plt.ylabel('Total Passengers')\n",
    "plt.xticks(rotation=45)\n",
    "plt.show()"
   ]
  },
  {
   "cell_type": "code",
   "execution_count": 30,
   "id": "d452a27e",
   "metadata": {},
   "outputs": [
    {
     "data": {
      "application/vnd.microsoft.datawrangler.viewer.v0+json": {
       "columns": [
        {
         "name": "index",
         "rawType": "int64",
         "type": "integer"
        },
        {
         "name": "YEAR",
         "rawType": "int64",
         "type": "integer"
        },
        {
         "name": "MONTH",
         "rawType": "object",
         "type": "string"
        },
        {
         "name": "QUARTER",
         "rawType": "object",
         "type": "string"
        },
        {
         "name": "AIRLINE NAME",
         "rawType": "object",
         "type": "string"
        },
        {
         "name": "CARRIER TYPE",
         "rawType": "object",
         "type": "string"
        },
        {
         "name": "TOTAL PASSENGERS",
         "rawType": "float64",
         "type": "float"
        }
       ],
       "conversionMethod": "pd.DataFrame",
       "ref": "6326e1a1-f7a9-4570-956b-3809bcc8fa62",
       "rows": [
        [
         "0",
         "2015",
         "JAN",
         "Q1",
         "AIR INDIA",
         "DOMESTIC",
         "533096.0"
        ],
        [
         "1",
         "2015",
         "JAN",
         "Q1",
         "AIR INDIA EXPRESS",
         "DOMESTIC",
         "212181.0"
        ],
        [
         "2",
         "2015",
         "JAN",
         "Q1",
         "INDIGO",
         "DOMESTIC",
         "142324.0"
        ],
        [
         "3",
         "2015",
         "JAN",
         "Q1",
         "JET AIRWAYS",
         "DOMESTIC",
         "652969.0"
        ],
        [
         "4",
         "2015",
         "JAN",
         "Q1",
         "SPICEJET",
         "DOMESTIC",
         "80350.0"
        ]
       ],
       "shape": {
        "columns": 6,
        "rows": 5
       }
      },
      "text/html": [
       "<div>\n",
       "<style scoped>\n",
       "    .dataframe tbody tr th:only-of-type {\n",
       "        vertical-align: middle;\n",
       "    }\n",
       "\n",
       "    .dataframe tbody tr th {\n",
       "        vertical-align: top;\n",
       "    }\n",
       "\n",
       "    .dataframe thead th {\n",
       "        text-align: right;\n",
       "    }\n",
       "</style>\n",
       "<table border=\"1\" class=\"dataframe\">\n",
       "  <thead>\n",
       "    <tr style=\"text-align: right;\">\n",
       "      <th></th>\n",
       "      <th>YEAR</th>\n",
       "      <th>MONTH</th>\n",
       "      <th>QUARTER</th>\n",
       "      <th>AIRLINE NAME</th>\n",
       "      <th>CARRIER TYPE</th>\n",
       "      <th>TOTAL PASSENGERS</th>\n",
       "    </tr>\n",
       "  </thead>\n",
       "  <tbody>\n",
       "    <tr>\n",
       "      <th>0</th>\n",
       "      <td>2015</td>\n",
       "      <td>JAN</td>\n",
       "      <td>Q1</td>\n",
       "      <td>AIR INDIA</td>\n",
       "      <td>DOMESTIC</td>\n",
       "      <td>533096.0</td>\n",
       "    </tr>\n",
       "    <tr>\n",
       "      <th>1</th>\n",
       "      <td>2015</td>\n",
       "      <td>JAN</td>\n",
       "      <td>Q1</td>\n",
       "      <td>AIR INDIA EXPRESS</td>\n",
       "      <td>DOMESTIC</td>\n",
       "      <td>212181.0</td>\n",
       "    </tr>\n",
       "    <tr>\n",
       "      <th>2</th>\n",
       "      <td>2015</td>\n",
       "      <td>JAN</td>\n",
       "      <td>Q1</td>\n",
       "      <td>INDIGO</td>\n",
       "      <td>DOMESTIC</td>\n",
       "      <td>142324.0</td>\n",
       "    </tr>\n",
       "    <tr>\n",
       "      <th>3</th>\n",
       "      <td>2015</td>\n",
       "      <td>JAN</td>\n",
       "      <td>Q1</td>\n",
       "      <td>JET AIRWAYS</td>\n",
       "      <td>DOMESTIC</td>\n",
       "      <td>652969.0</td>\n",
       "    </tr>\n",
       "    <tr>\n",
       "      <th>4</th>\n",
       "      <td>2015</td>\n",
       "      <td>JAN</td>\n",
       "      <td>Q1</td>\n",
       "      <td>SPICEJET</td>\n",
       "      <td>DOMESTIC</td>\n",
       "      <td>80350.0</td>\n",
       "    </tr>\n",
       "  </tbody>\n",
       "</table>\n",
       "</div>"
      ],
      "text/plain": [
       "   YEAR MONTH QUARTER       AIRLINE NAME CARRIER TYPE  TOTAL PASSENGERS\n",
       "0  2015   JAN      Q1          AIR INDIA     DOMESTIC          533096.0\n",
       "1  2015   JAN      Q1  AIR INDIA EXPRESS     DOMESTIC          212181.0\n",
       "2  2015   JAN      Q1             INDIGO     DOMESTIC          142324.0\n",
       "3  2015   JAN      Q1        JET AIRWAYS     DOMESTIC          652969.0\n",
       "4  2015   JAN      Q1           SPICEJET     DOMESTIC           80350.0"
      ]
     },
     "execution_count": 30,
     "metadata": {},
     "output_type": "execute_result"
    }
   ],
   "source": [
    "df.head()"
   ]
  },
  {
   "cell_type": "code",
   "execution_count": 31,
   "id": "e064decc",
   "metadata": {},
   "outputs": [],
   "source": [
    "df['QUARTER']=df['QUARTER'].map({'Q1':1,'Q2':2,'Q3':3,'Q4':4})\n",
    "df['MONTH']=df['MONTH'].map({'JAN':1,'FEB':2,'MAR':3,'APR':4,'MAY':5,'JUN':6,'JUL':7,'AUG':8,'SEP':9,'OCT':10,'NOV':11,'DEC':12})\n",
    "df['CARRIER TYPE']=df['CARRIER TYPE'].map({'DOMESTIC':1,'INTERNATIONAL':2})"
   ]
  },
  {
   "cell_type": "code",
   "execution_count": 32,
   "id": "1542c0cd",
   "metadata": {},
   "outputs": [
    {
     "data": {
      "application/vnd.microsoft.datawrangler.viewer.v0+json": {
       "columns": [
        {
         "name": "index",
         "rawType": "int64",
         "type": "integer"
        },
        {
         "name": "YEAR",
         "rawType": "int64",
         "type": "integer"
        },
        {
         "name": "MONTH",
         "rawType": "int64",
         "type": "integer"
        },
        {
         "name": "QUARTER",
         "rawType": "int64",
         "type": "integer"
        },
        {
         "name": "AIRLINE NAME",
         "rawType": "object",
         "type": "string"
        },
        {
         "name": "CARRIER TYPE",
         "rawType": "float64",
         "type": "float"
        },
        {
         "name": "TOTAL PASSENGERS",
         "rawType": "float64",
         "type": "float"
        }
       ],
       "conversionMethod": "pd.DataFrame",
       "ref": "db0bf162-ca87-4919-86af-1ba7062b7298",
       "rows": [
        [
         "0",
         "2015",
         "1",
         "1",
         "AIR INDIA",
         "1.0",
         "533096.0"
        ],
        [
         "1",
         "2015",
         "1",
         "1",
         "AIR INDIA EXPRESS",
         "1.0",
         "212181.0"
        ],
        [
         "2",
         "2015",
         "1",
         "1",
         "INDIGO",
         "1.0",
         "142324.0"
        ],
        [
         "3",
         "2015",
         "1",
         "1",
         "JET AIRWAYS",
         "1.0",
         "652969.0"
        ],
        [
         "4",
         "2015",
         "1",
         "1",
         "SPICEJET",
         "1.0",
         "80350.0"
        ]
       ],
       "shape": {
        "columns": 6,
        "rows": 5
       }
      },
      "text/html": [
       "<div>\n",
       "<style scoped>\n",
       "    .dataframe tbody tr th:only-of-type {\n",
       "        vertical-align: middle;\n",
       "    }\n",
       "\n",
       "    .dataframe tbody tr th {\n",
       "        vertical-align: top;\n",
       "    }\n",
       "\n",
       "    .dataframe thead th {\n",
       "        text-align: right;\n",
       "    }\n",
       "</style>\n",
       "<table border=\"1\" class=\"dataframe\">\n",
       "  <thead>\n",
       "    <tr style=\"text-align: right;\">\n",
       "      <th></th>\n",
       "      <th>YEAR</th>\n",
       "      <th>MONTH</th>\n",
       "      <th>QUARTER</th>\n",
       "      <th>AIRLINE NAME</th>\n",
       "      <th>CARRIER TYPE</th>\n",
       "      <th>TOTAL PASSENGERS</th>\n",
       "    </tr>\n",
       "  </thead>\n",
       "  <tbody>\n",
       "    <tr>\n",
       "      <th>0</th>\n",
       "      <td>2015</td>\n",
       "      <td>1</td>\n",
       "      <td>1</td>\n",
       "      <td>AIR INDIA</td>\n",
       "      <td>1.0</td>\n",
       "      <td>533096.0</td>\n",
       "    </tr>\n",
       "    <tr>\n",
       "      <th>1</th>\n",
       "      <td>2015</td>\n",
       "      <td>1</td>\n",
       "      <td>1</td>\n",
       "      <td>AIR INDIA EXPRESS</td>\n",
       "      <td>1.0</td>\n",
       "      <td>212181.0</td>\n",
       "    </tr>\n",
       "    <tr>\n",
       "      <th>2</th>\n",
       "      <td>2015</td>\n",
       "      <td>1</td>\n",
       "      <td>1</td>\n",
       "      <td>INDIGO</td>\n",
       "      <td>1.0</td>\n",
       "      <td>142324.0</td>\n",
       "    </tr>\n",
       "    <tr>\n",
       "      <th>3</th>\n",
       "      <td>2015</td>\n",
       "      <td>1</td>\n",
       "      <td>1</td>\n",
       "      <td>JET AIRWAYS</td>\n",
       "      <td>1.0</td>\n",
       "      <td>652969.0</td>\n",
       "    </tr>\n",
       "    <tr>\n",
       "      <th>4</th>\n",
       "      <td>2015</td>\n",
       "      <td>1</td>\n",
       "      <td>1</td>\n",
       "      <td>SPICEJET</td>\n",
       "      <td>1.0</td>\n",
       "      <td>80350.0</td>\n",
       "    </tr>\n",
       "  </tbody>\n",
       "</table>\n",
       "</div>"
      ],
      "text/plain": [
       "   YEAR  MONTH  QUARTER       AIRLINE NAME  CARRIER TYPE  TOTAL PASSENGERS\n",
       "0  2015      1        1          AIR INDIA           1.0          533096.0\n",
       "1  2015      1        1  AIR INDIA EXPRESS           1.0          212181.0\n",
       "2  2015      1        1             INDIGO           1.0          142324.0\n",
       "3  2015      1        1        JET AIRWAYS           1.0          652969.0\n",
       "4  2015      1        1           SPICEJET           1.0           80350.0"
      ]
     },
     "execution_count": 32,
     "metadata": {},
     "output_type": "execute_result"
    }
   ],
   "source": [
    "df.head()"
   ]
  },
  {
   "cell_type": "code",
   "execution_count": 33,
   "id": "08256ad2",
   "metadata": {},
   "outputs": [
    {
     "data": {
      "text/plain": [
       "AIRLINE NAME\n",
       "AIR INDIA                     27\n",
       "GULF AIR                      27\n",
       "OMAN AIR                      27\n",
       "NEPAL AIRLINES CORPORATION    27\n",
       "MYANMAR AIRLINES              27\n",
       "                              ..\n",
       "MARTIN AIR HOLLAND             3\n",
       "SOUTHA AFRICAN AIRLINES        3\n",
       "BRUSSELS AIRLINES              3\n",
       "GARUDA INDONESIA               3\n",
       "US BANGLA AIRLINES             3\n",
       "Name: count, Length: 100, dtype: int64"
      ]
     },
     "execution_count": 33,
     "metadata": {},
     "output_type": "execute_result"
    }
   ],
   "source": [
    "df['AIRLINE NAME'].value_counts()"
   ]
  },
  {
   "cell_type": "code",
   "execution_count": 34,
   "id": "c94432a7",
   "metadata": {},
   "outputs": [
    {
     "name": "stdout",
     "output_type": "stream",
     "text": [
      "{'AEROFLOT': 0, 'AEROLOGIC': 1, 'AIR ARABIA': 2, 'AIR ASIA BERHAD': 3, 'AIR ASIA X': 4, 'AIR ASTANA': 5, 'AIR AUSTRAL': 6, 'AIR CANADA': 7, 'AIR CHINA': 8, 'AIR FRANCE': 9, 'AIR INDIA': 10, 'AIR INDIA EXPRESS': 11, 'AIR MANAS': 12, 'AIR MAURITIUS': 13, 'AIR SEYCHELLES': 14, 'ALL NIPPON AIRWAYS': 15, 'ARIANA AFGHAN': 16, 'ASIANA AIRLINES': 17, 'AUSTRIAN AIRLINES': 18, 'BANGKOK AIRWAYS': 19, 'BHUTAN AIRLINES': 20, 'BIMAN BANGLADESH': 21, 'BRITISH AIRWAYS': 22, 'BRUSSELS AIRLINES': 23, 'BUDDHA AIR': 24, 'BUDHHA AIR': 25, 'CARGOLUX AIRLINES INTERNATIONAL S.A.': 26, 'CATHAY PACIFIC': 27, 'CHINA AIRLINES LTD': 28, 'CHINA EASTERN AIRLINES': 29, 'CHINA SOUTHERN ': 30, 'DELTA AIRLINES': 31, 'DRAGON AIR': 32, 'DRUK AIR': 33, 'EGYPT AIR': 34, 'EL-AL-ISRAEL': 35, 'EMIRATES AIRLINE': 36, 'ETHIOPIAN AIRLINES': 37, 'ETIHAD AIRLINES': 38, 'EVA AIRWAYS': 39, 'FEDERAL EXPRESS': 40, 'FINN AIR': 41, 'FLY DUBAI': 42, 'GARUDA INDONESIA': 43, 'GULF AIR': 44, 'INDIGO': 45, 'IRAN AIR': 46, 'IRAQI AIRWAYS': 47, 'ISLAND AVIATION SERVICES': 48, 'JAPAN AIRLINES': 49, 'JET AIRWAYS': 50, 'KALITTA AIR': 51, 'KAM AIR': 52, 'KENYA AIRWAYS': 53, 'KLM AIRLINES': 54, 'KOREAN AIR': 55, 'KUWAIT AIRWAYS': 56, 'LUFTHANSA': 57, 'MAHAN AIR': 58, 'MALAYSIA AIRLINES': 59, 'MALINDO AIRWAYS': 60, 'MARTIN AIR HOLLAND': 61, 'MEGA MALDIVES AIRLINES': 62, 'MIHIN LANKA': 63, 'MYANMAR AIRLINES': 64, 'NEPAL AIRLINES CORPORATION': 65, 'NOVO AIR': 66, 'OMAN AIR': 67, 'PAK INTERNATIONAL': 68, 'QATAR AIRWATYS': 69, 'QATAR AIRWAYS': 70, 'REGENT AIRWAYS': 71, 'ROSSIYA AIRLINES': 72, 'SAFI AIRWAYS': 73, 'SAUDIA': 74, 'SCAT AIRLINES': 75, 'SCOOT PTE LTD.': 76, 'SHANDONG AIRLINES': 77, 'SILK AIR': 78, 'SINGAPORE AIRLINES': 79, 'SOUTHA AFRICAN AIRLINES': 80, 'SPICEJET': 81, 'SRILNKAN AIRWAYS': 82, 'SWISS AIR': 83, 'TAJIK AIR': 84, 'THAI AIR ASIA': 85, 'THAI AIRWAYS': 86, 'THAI SMILE AIRWAYS': 87, 'THOMAS COOK AIRLINES U.K.': 88, 'TIGER AIRWAYS': 89, 'TRANSAERO AIRLINES': 90, 'TURKISH AIRLINES': 91, 'TURKMENISTAN AIRLINES': 92, 'UNITED AIRLINES': 93, 'UNITED AIRLINES BANGLADESH LTD.': 94, 'UNITED PARCEL SERVICES': 95, 'US BANGLA AIRLINES': 96, 'UZBEKISTAN AIRWAYS': 97, 'VIRGIN ATLANTIC AIRLINES': 98, 'YEMENIA AIRWAYS': 99}\n"
     ]
    }
   ],
   "source": [
    "# prompt: do label encoding on the column AIRLINE NAME and let me know the values you rassigning for i t\n",
    "\n",
    "from sklearn.preprocessing import LabelEncoder\n",
    "\n",
    "le = LabelEncoder()\n",
    "df['AIRLINE NAME'] = le.fit_transform(df['AIRLINE NAME'])\n",
    "\n",
    "print(dict(zip(le.classes_, le.transform(le.classes_))))"
   ]
  },
  {
   "cell_type": "code",
   "execution_count": 35,
   "id": "c7f513ed",
   "metadata": {},
   "outputs": [
    {
     "data": {
      "text/plain": [
       "YEAR                   0\n",
       "MONTH                  0\n",
       "QUARTER                0\n",
       "AIRLINE NAME           0\n",
       "CARRIER TYPE        2199\n",
       "TOTAL PASSENGERS       5\n",
       "dtype: int64"
      ]
     },
     "execution_count": 35,
     "metadata": {},
     "output_type": "execute_result"
    }
   ],
   "source": [
    "df.isnull().sum()"
   ]
  },
  {
   "cell_type": "code",
   "execution_count": 36,
   "id": "631fc9b3",
   "metadata": {},
   "outputs": [
    {
     "data": {
      "text/plain": [
       "YEAR                0\n",
       "MONTH               0\n",
       "QUARTER             0\n",
       "AIRLINE NAME        0\n",
       "CARRIER TYPE        0\n",
       "TOTAL PASSENGERS    0\n",
       "dtype: int64"
      ]
     },
     "execution_count": 36,
     "metadata": {},
     "output_type": "execute_result"
    }
   ],
   "source": [
    "# prompt: fill null values with mode for carrier type column with mean for total passengers\n",
    "\n",
    "# Fill null values in 'CARRIER TYPE' with the mode\n",
    "df['CARRIER TYPE'] = df['CARRIER TYPE'].fillna(df['CARRIER TYPE'].mode()[0])\n",
    "\n",
    "# Fill null values in 'TOTAL PASSENGERS' with the mean\n",
    "df['TOTAL PASSENGERS'] = df['TOTAL PASSENGERS'].fillna(df['TOTAL PASSENGERS'].mean())\n",
    "\n",
    "df.isnull().sum()\n"
   ]
  },
  {
   "cell_type": "code",
   "execution_count": 37,
   "id": "18fae04f",
   "metadata": {},
   "outputs": [],
   "source": [
    "import pandas as pd\n",
    "from sklearn.preprocessing import LabelEncoder\n",
    "from sklearn.model_selection import train_test_split\n",
    "from sklearn.ensemble import RandomForestRegressor # Import RandomForestRegressor\n",
    "from sklearn.metrics import r2_score"
   ]
  },
  {
   "cell_type": "code",
   "execution_count": 38,
   "id": "f3895ebe",
   "metadata": {},
   "outputs": [
    {
     "name": "stdout",
     "output_type": "stream",
     "text": [
      "X_train shape: (1867, 4)\n",
      "X_test shape: (467, 4)\n",
      "y_train shape: (1867,)\n",
      "y_test shape: (467,)\n"
     ]
    }
   ],
   "source": [
    "X=df.drop(columns=['TOTAL PASSENGERS','CARRIER TYPE'])\n",
    "y=df['TOTAL PASSENGERS']\n",
    "\n",
    "\n",
    "# Split the data into training and testing sets\n",
    "X_train, X_test, y_train, y_test = train_test_split(X, y, test_size=0.2, random_state=42)\n",
    "\n",
    "# Display the shapes of the resulting datasets\n",
    "print(f\"X_train shape: {X_train.shape}\")\n",
    "print(f\"X_test shape: {X_test.shape}\")\n",
    "print(f\"y_train shape: {y_train.shape}\")\n",
    "print(f\"y_test shape: {y_test.shape}\")"
   ]
  },
  {
   "cell_type": "code",
   "execution_count": 39,
   "id": "47a083a0",
   "metadata": {},
   "outputs": [
    {
     "name": "stdout",
     "output_type": "stream",
     "text": [
      "R-squared score (RandomForestRegressor): 0.9872026831415716\n"
     ]
    }
   ],
   "source": [
    "# Train a RandomForestRegressor model and evaluate its performance\n",
    "rf_model = RandomForestRegressor(random_state=42, n_estimators=100)\n",
    "\n",
    "# Train the model\n",
    "rf_model.fit(X_train, y_train)\n",
    "\n",
    "# Make predictions on the test set\n",
    "y_pred_rf = rf_model.predict(X_test)\n",
    "\n",
    "# Evaluate the model using R-squared\n",
    "r2_rf = r2_score(y_test, y_pred_rf)\n",
    "print(f\"R-squared score (RandomForestRegressor): {r2_rf}\")"
   ]
  },
  {
   "cell_type": "code",
   "execution_count": 40,
   "id": "aafda28a",
   "metadata": {},
   "outputs": [
    {
     "name": "stdout",
     "output_type": "stream",
     "text": [
      "Mean Absolute Error (MAE): 4026.1363457127018\n",
      "Mean Squared Error (MSE): 103177103.59523617\n",
      "Root Mean Squared Error (RMSE): 10157.613085525367\n"
     ]
    }
   ],
   "source": [
    "from sklearn.metrics import mean_absolute_error, mean_squared_error\n",
    "import numpy as np\n",
    "\n",
    "# Calculate performance metrics\n",
    "mae = mean_absolute_error(y_test, y_pred_rf)\n",
    "mse = mean_squared_error(y_test, y_pred_rf)\n",
    "rmse = np.sqrt(mse)\n",
    "\n",
    "print(f\"Mean Absolute Error (MAE): {mae}\")\n",
    "print(f\"Mean Squared Error (MSE): {mse}\")\n",
    "print(f\"Root Mean Squared Error (RMSE): {rmse}\")"
   ]
  },
  {
   "cell_type": "code",
   "execution_count": 41,
   "id": "59e8cddb",
   "metadata": {},
   "outputs": [
    {
     "name": "stdout",
     "output_type": "stream",
     "text": [
      "Mean Absolute Percentage Error (MAPE) for Random Forest: inf%\n"
     ]
    }
   ],
   "source": [
    "# Calculate MAPE for Random Forest\n",
    "mape_rf = np.mean(np.abs((y_test - y_pred_rf) / y_test)) * 100\n",
    "print(f\"Mean Absolute Percentage Error (MAPE) for Random Forest: {mape_rf:.2f}%\")"
   ]
  },
  {
   "cell_type": "code",
   "execution_count": 42,
   "id": "c089c3b4",
   "metadata": {},
   "outputs": [
    {
     "data": {
      "text/plain": [
       "Index(['YEAR', 'MONTH', 'QUARTER', 'AIRLINE NAME'], dtype='object')"
      ]
     },
     "execution_count": 42,
     "metadata": {},
     "output_type": "execute_result"
    }
   ],
   "source": [
    "X.columns"
   ]
  },
  {
   "cell_type": "code",
   "execution_count": 43,
   "id": "b029fdd2",
   "metadata": {},
   "outputs": [
    {
     "name": "stdout",
     "output_type": "stream",
     "text": [
      "Model saved as model.pkl\n"
     ]
    }
   ],
   "source": [
    "import joblib\n",
    "\n",
    "# Save the trained RandomForestRegressor model to a file\n",
    "joblib.dump(rf_model, \"model.pkl\")\n",
    "print(\"Model saved as model.pkl\")"
   ]
  },
  {
   "cell_type": "code",
   "execution_count": 44,
   "id": "47990610",
   "metadata": {},
   "outputs": [
    {
     "name": "stdout",
     "output_type": "stream",
     "text": [
      "* Running on local URL:  http://127.0.0.1:7860\n",
      "\n",
      "To create a public link, set `share=True` in `launch()`.\n"
     ]
    },
    {
     "data": {
      "text/html": [
       "<div><iframe src=\"http://127.0.0.1:7860/\" width=\"100%\" height=\"500\" allow=\"autoplay; camera; microphone; clipboard-read; clipboard-write;\" frameborder=\"0\" allowfullscreen></iframe></div>"
      ],
      "text/plain": [
       "<IPython.core.display.HTML object>"
      ]
     },
     "metadata": {},
     "output_type": "display_data"
    },
    {
     "data": {
      "text/plain": []
     },
     "execution_count": 44,
     "metadata": {},
     "output_type": "execute_result"
    }
   ],
   "source": [
    "import gradio as gr\n",
    "import pandas as pd\n",
    "import joblib  # or use pickle\n",
    "from sklearn.ensemble import RandomForestRegressor\n",
    "\n",
    "# Load your trained regression model\n",
    "model = joblib.load(\"model.pkl\")\n",
    "\n",
    "# Define mappings\n",
    "airline_mapping = {\n",
    "    'AEROFLOT': 0, 'AEROLOGIC': 1, 'AIR ARABIA': 2, 'AIR ASIA BERHAD': 3, 'AIR ASIA X': 4,\n",
    "    'AIR ASTANA': 5, 'AIR AUSTRAL': 6, 'AIR CANADA': 7, 'AIR CHINA': 8, 'AIR FRANCE': 9,\n",
    "    'AIR INDIA': 10, 'AIR INDIA EXPRESS': 11, 'AIR MANAS': 12, 'AIR MAURITIUS': 13,\n",
    "    'AIR SEYCHELLES': 14, 'ALL NIPPON AIRWAYS': 15, 'ARIANA AFGHAN': 16, 'ASIANA AIRLINES': 17,\n",
    "    'AUSTRIAN AIRLINES': 18, 'BANGKOK AIRWAYS': 19, 'BHUTAN AIRLINES': 20, 'BIMAN BANGLADESH': 21,\n",
    "    'BRITISH AIRWAYS': 22, 'BRUSSELS AIRLINES': 23, 'BUDDHA AIR': 24, 'BUDHHA AIR': 25,\n",
    "    'CARGOLUX AIRLINES INTERNATIONAL S.A.': 26, 'CATHAY PACIFIC': 27, 'CHINA AIRLINES LTD': 28,\n",
    "    'CHINA EASTERN AIRLINES': 29, 'CHINA SOUTHERN ': 30, 'DELTA AIRLINES': 31, 'DRAGON AIR': 32,\n",
    "    'DRUK AIR': 33, 'EGYPT AIR': 34, 'EL-AL-ISRAEL': 35, 'EMIRATES AIRLINE': 36,\n",
    "    'ETHIOPIAN AIRLINES': 37, 'ETIHAD AIRLINES': 38, 'EVA AIRWAYS': 39, 'FEDERAL EXPRESS': 40,\n",
    "    'FINN AIR': 41, 'FLY DUBAI': 42, 'GARUDA INDONESIA': 43, 'GULF AIR': 44, 'INDIGO': 45,\n",
    "    'IRAN AIR': 46, 'IRAQI AIRWAYS': 47, 'ISLAND AVIATION SERVICES': 48, 'JAPAN AIRLINES': 49,\n",
    "    'JET AIRWAYS': 50, 'KALITTA AIR': 51, 'KAM AIR': 52, 'KENYA AIRWAYS': 53, 'KLM AIRLINES': 54,\n",
    "    'KOREAN AIR': 55, 'KUWAIT AIRWAYS': 56, 'LUFTHANSA': 57, 'MAHAN AIR': 58, 'MALAYSIA AIRLINES': 59,\n",
    "    'MALINDO AIRWAYS': 60, 'MARTIN AIR HOLLAND': 61, 'MEGA MALDIVES AIRLINES': 62,\n",
    "    'MIHIN LANKA': 63, 'MYANMAR AIRLINES': 64, 'NEPAL AIRLINES CORPORATION': 65,\n",
    "    'NOVO AIR': 66, 'OMAN AIR': 67, 'PAK INTERNATIONAL': 68, 'QATAR AIRWATYS': 69,\n",
    "    'QATAR AIRWAYS': 70, 'REGENT AIRWAYS': 71, 'ROSSIYA AIRLINES': 72, 'SAFI AIRWAYS': 73,\n",
    "    'SAUDIA': 74, 'SCAT AIRLINES': 75, 'SCOOT PTE LTD.': 76, 'SHANDONG AIRLINES': 77,\n",
    "    'SILK AIR': 78, 'SINGAPORE AIRLINES': 79, 'SOUTHA AFRICAN AIRLINES': 80, 'SPICEJET': 81,\n",
    "    'SRILNKAN AIRWAYS': 82, 'SWISS AIR': 83, 'TAJIK AIR': 84, 'THAI AIR ASIA': 85,\n",
    "    'THAI AIRWAYS': 86, 'THAI SMILE AIRWAYS': 87, 'THOMAS COOK AIRLINES U.K.': 88,\n",
    "    'TIGER AIRWAYS': 89, 'TRANSAERO AIRLINES': 90, 'TURKISH AIRLINES': 91,\n",
    "    'TURKMENISTAN AIRLINES': 92, 'UNITED AIRLINES': 93, 'UNITED AIRLINES BANGLADESH LTD.': 94,\n",
    "    'UNITED PARCEL SERVICES': 95, 'US BANGLA AIRLINES': 96, 'UZBEKISTAN AIRWAYS': 97,\n",
    "    'VIRGIN ATLANTIC AIRLINES': 98, 'YEMENIA AIRWAYS': 99\n",
    "}\n",
    "\n",
    "\n",
    "# Prediction function\n",
    "def predict_passengers(year, month, quarter, airline_name):\n",
    "    input_data = pd.DataFrame([{\n",
    "        'YEAR': int(year),\n",
    "        'MONTH': int(month),\n",
    "        'QUARTER': int(quarter),\n",
    "        'AIRLINE NAME': airline_mapping[airline_name]\n",
    "    }])\n",
    "\n",
    "    prediction = model.predict(input_data)[0]\n",
    "    return f\"Estimated Passengers: {prediction:,.0f}\"\n",
    "\n",
    "# Gradio interface\n",
    "gr.Interface(\n",
    "    fn=predict_passengers,\n",
    "    inputs=[\n",
    "        gr.Number(label=\"Year\", value=2023),\n",
    "        gr.Slider(label=\"Month\",minimum=1,maximum=3,step=1, value=1),\n",
    "        gr.Slider(label=\"Quarter\",minimum=1,maximum=4,step=1, value=1),\n",
    "        gr.Dropdown(label=\"Airline Name\", choices=list(airline_mapping.keys())),\n",
    "    ],\n",
    "    outputs=\"text\",\n",
    "    title=\"Air Passenger Volume Estimator\",\n",
    "    description=\"Enter airline and time details to estimate total passengers for that period.\"\n",
    ").launch(inbrowser=True)\n"
   ]
  },
  {
   "cell_type": "code",
   "execution_count": 45,
   "id": "862dd114",
   "metadata": {},
   "outputs": [
    {
     "name": "stdout",
     "output_type": "stream",
     "text": [
      "* Running on local URL:  http://127.0.0.1:7861\n",
      "\n",
      "To create a public link, set `share=True` in `launch()`.\n"
     ]
    },
    {
     "data": {
      "text/html": [
       "<div><iframe src=\"http://127.0.0.1:7861/\" width=\"100%\" height=\"500\" allow=\"autoplay; camera; microphone; clipboard-read; clipboard-write;\" frameborder=\"0\" allowfullscreen></iframe></div>"
      ],
      "text/plain": [
       "<IPython.core.display.HTML object>"
      ]
     },
     "metadata": {},
     "output_type": "display_data"
    },
    {
     "data": {
      "text/plain": []
     },
     "execution_count": 45,
     "metadata": {},
     "output_type": "execute_result"
    }
   ],
   "source": [
    "import gradio as gr\n",
    "import pandas as pd\n",
    "from sklearn.ensemble import RandomForestRegressor\n",
    "import joblib\n",
    "\n",
    "# Load your trained regression model\n",
    "model = joblib.load(\"model.pkl\")\n",
    "\n",
    "# Define airline mapping\n",
    "airline_mapping = {\n",
    "    'AEROFLOT': 0, 'AEROLOGIC': 1, 'AIR ARABIA': 2, 'AIR ASIA BERHAD': 3, 'AIR ASIA X': 4,\n",
    "    'AIR ASTANA': 5, 'AIR AUSTRAL': 6, 'AIR CANADA': 7, 'AIR CHINA': 8, 'AIR FRANCE': 9,\n",
    "    'AIR INDIA': 10, 'AIR INDIA EXPRESS': 11, 'AIR MANAS': 12, 'AIR MAURITIUS': 13,\n",
    "    'AIR SEYCHELLES': 14, 'ALL NIPPON AIRWAYS': 15, 'ARIANA AFGHAN': 16, 'ASIANA AIRLINES': 17,\n",
    "    'AUSTRIAN AIRLINES': 18, 'BANGKOK AIRWAYS': 19, 'BHUTAN AIRLINES': 20, 'BIMAN BANGLADESH': 21,\n",
    "    'BRITISH AIRWAYS': 22, 'BRUSSELS AIRLINES': 23, 'BUDDHA AIR': 24, 'BUDHHA AIR': 25,\n",
    "    'CARGOLUX AIRLINES INTERNATIONAL S.A.': 26, 'CATHAY PACIFIC': 27, 'CHINA AIRLINES LTD': 28,\n",
    "    'CHINA EASTERN AIRLINES': 29, 'CHINA SOUTHERN ': 30, 'DELTA AIRLINES': 31, 'DRAGON AIR': 32,\n",
    "    'DRUK AIR': 33, 'EGYPT AIR': 34, 'EL-AL-ISRAEL': 35, 'EMIRATES AIRLINE': 36,\n",
    "    'ETHIOPIAN AIRLINES': 37, 'ETIHAD AIRLINES': 38, 'EVA AIRWAYS': 39, 'FEDERAL EXPRESS': 40,\n",
    "    'FINN AIR': 41, 'FLY DUBAI': 42, 'GARUDA INDONESIA': 43, 'GULF AIR': 44, 'INDIGO': 45,\n",
    "    'IRAN AIR': 46, 'IRAQI AIRWAYS': 47, 'ISLAND AVIATION SERVICES': 48, 'JAPAN AIRLINES': 49,\n",
    "    'JET AIRWAYS': 50, 'KALITTA AIR': 51, 'KAM AIR': 52, 'KENYA AIRWAYS': 53, 'KLM AIRLINES': 54,\n",
    "    'KOREAN AIR': 55, 'KUWAIT AIRWAYS': 56, 'LUFTHANSA': 57, 'MAHAN AIR': 58, 'MALAYSIA AIRLINES': 59,\n",
    "    'MALINDO AIRWAYS': 60, 'MARTIN AIR HOLLAND': 61, 'MEGA MALDIVES AIRLINES': 62,\n",
    "    'MIHIN LANKA': 63, 'MYANMAR AIRLINES': 64, 'NEPAL AIRLINES CORPORATION': 65,\n",
    "    'NOVO AIR': 66, 'OMAN AIR': 67, 'PAK INTERNATIONAL': 68, 'QATAR AIRWATYS': 69,\n",
    "    'QATAR AIRWAYS': 70, 'REGENT AIRWAYS': 71, 'ROSSIYA AIRLINES': 72, 'SAFI AIRWAYS': 73,\n",
    "    'SAUDIA': 74, 'SCAT AIRLINES': 75, 'SCOOT PTE LTD.': 76, 'SHANDONG AIRLINES': 77,\n",
    "    'SILK AIR': 78, 'SINGAPORE AIRLINES': 79, 'SOUTHA AFRICAN AIRLINES': 80, 'SPICEJET': 81,\n",
    "    'SRILNKAN AIRWAYS': 82, 'SWISS AIR': 83, 'TAJIK AIR': 84, 'THAI AIR ASIA': 85,\n",
    "    'THAI AIRWAYS': 86, 'THAI SMILE AIRWAYS': 87, 'THOMAS COOK AIRLINES U.K.': 88,\n",
    "    'TIGER AIRWAYS': 89, 'TRANSAERO AIRLINES': 90, 'TURKISH AIRLINES': 91,\n",
    "    'TURKMENISTAN AIRLINES': 92, 'UNITED AIRLINES': 93, 'UNITED AIRLINES BANGLADESH LTD.': 94,\n",
    "    'UNITED PARCEL SERVICES': 95, 'US BANGLA AIRLINES': 96, 'UZBEKISTAN AIRWAYS': 97,\n",
    "    'VIRGIN ATLANTIC AIRLINES': 98, 'YEMENIA AIRWAYS': 99\n",
    "}\n",
    "\n",
    "# Prediction function\n",
    "def predict_passengers(month, quarter, airline_name):\n",
    "    year = 2023  # Fixed year\n",
    "\n",
    "    # Prepare input for the model\n",
    "    input_data = pd.DataFrame([{\n",
    "        'YEAR': year,\n",
    "        'MONTH': int(month),\n",
    "        'QUARTER': int(quarter),\n",
    "        'AIRLINE NAME': airline_mapping[airline_name]\n",
    "    }])\n",
    "\n",
    "    prediction = model.predict(input_data)[0]\n",
    "\n",
    "    return f\"\"\"✈️ Airline: {airline_name}\n",
    "📅 Period: {month}(Q{quarter})\n",
    "📈 Estimated Passengers: {prediction:,.0f}\"\"\"\n",
    "\n",
    "# Gradio interface\n",
    "gr.Interface(\n",
    "    fn=predict_passengers,\n",
    "    inputs=[\n",
    "        gr.Slider(label=\"Month\", minimum=1, maximum=3, step=1, value=1),\n",
    "        gr.Slider(label=\"Quarter\", minimum=1, maximum=4, step=1, value=1),\n",
    "        gr.Dropdown(label=\"Airline Name\", choices=list(airline_mapping.keys())),\n",
    "    ],\n",
    "    outputs=\"text\",\n",
    "    title=\"Air Passenger Volume Estimator\",\n",
    "    description=\"Estimate passenger volume for a selected airline and month in next year\"\n",
    ").launch(inbrowser=True)"
   ]
  },
  {
   "cell_type": "code",
   "execution_count": 46,
   "id": "21ecf483",
   "metadata": {},
   "outputs": [
    {
     "data": {
      "application/vnd.microsoft.datawrangler.viewer.v0+json": {
       "columns": [
        {
         "name": "index",
         "rawType": "int64",
         "type": "integer"
        },
        {
         "name": "YEAR",
         "rawType": "int64",
         "type": "integer"
        },
        {
         "name": "MONTH",
         "rawType": "int64",
         "type": "integer"
        },
        {
         "name": "QUARTER",
         "rawType": "int64",
         "type": "integer"
        },
        {
         "name": "AIRLINE NAME",
         "rawType": "int32",
         "type": "integer"
        },
        {
         "name": "CARRIER TYPE",
         "rawType": "float64",
         "type": "float"
        },
        {
         "name": "TOTAL PASSENGERS",
         "rawType": "float64",
         "type": "float"
        }
       ],
       "conversionMethod": "pd.DataFrame",
       "ref": "cfba872b-daf6-41b2-ac61-55952728d9c1",
       "rows": [
        [
         "0",
         "2015",
         "1",
         "1",
         "10",
         "1.0",
         "533096.0"
        ],
        [
         "1",
         "2015",
         "1",
         "1",
         "11",
         "1.0",
         "212181.0"
        ],
        [
         "2",
         "2015",
         "1",
         "1",
         "45",
         "1.0",
         "142324.0"
        ],
        [
         "3",
         "2015",
         "1",
         "1",
         "50",
         "1.0",
         "652969.0"
        ],
        [
         "4",
         "2015",
         "1",
         "1",
         "81",
         "1.0",
         "80350.0"
        ]
       ],
       "shape": {
        "columns": 6,
        "rows": 5
       }
      },
      "text/html": [
       "<div>\n",
       "<style scoped>\n",
       "    .dataframe tbody tr th:only-of-type {\n",
       "        vertical-align: middle;\n",
       "    }\n",
       "\n",
       "    .dataframe tbody tr th {\n",
       "        vertical-align: top;\n",
       "    }\n",
       "\n",
       "    .dataframe thead th {\n",
       "        text-align: right;\n",
       "    }\n",
       "</style>\n",
       "<table border=\"1\" class=\"dataframe\">\n",
       "  <thead>\n",
       "    <tr style=\"text-align: right;\">\n",
       "      <th></th>\n",
       "      <th>YEAR</th>\n",
       "      <th>MONTH</th>\n",
       "      <th>QUARTER</th>\n",
       "      <th>AIRLINE NAME</th>\n",
       "      <th>CARRIER TYPE</th>\n",
       "      <th>TOTAL PASSENGERS</th>\n",
       "    </tr>\n",
       "  </thead>\n",
       "  <tbody>\n",
       "    <tr>\n",
       "      <th>0</th>\n",
       "      <td>2015</td>\n",
       "      <td>1</td>\n",
       "      <td>1</td>\n",
       "      <td>10</td>\n",
       "      <td>1.0</td>\n",
       "      <td>533096.0</td>\n",
       "    </tr>\n",
       "    <tr>\n",
       "      <th>1</th>\n",
       "      <td>2015</td>\n",
       "      <td>1</td>\n",
       "      <td>1</td>\n",
       "      <td>11</td>\n",
       "      <td>1.0</td>\n",
       "      <td>212181.0</td>\n",
       "    </tr>\n",
       "    <tr>\n",
       "      <th>2</th>\n",
       "      <td>2015</td>\n",
       "      <td>1</td>\n",
       "      <td>1</td>\n",
       "      <td>45</td>\n",
       "      <td>1.0</td>\n",
       "      <td>142324.0</td>\n",
       "    </tr>\n",
       "    <tr>\n",
       "      <th>3</th>\n",
       "      <td>2015</td>\n",
       "      <td>1</td>\n",
       "      <td>1</td>\n",
       "      <td>50</td>\n",
       "      <td>1.0</td>\n",
       "      <td>652969.0</td>\n",
       "    </tr>\n",
       "    <tr>\n",
       "      <th>4</th>\n",
       "      <td>2015</td>\n",
       "      <td>1</td>\n",
       "      <td>1</td>\n",
       "      <td>81</td>\n",
       "      <td>1.0</td>\n",
       "      <td>80350.0</td>\n",
       "    </tr>\n",
       "  </tbody>\n",
       "</table>\n",
       "</div>"
      ],
      "text/plain": [
       "   YEAR  MONTH  QUARTER  AIRLINE NAME  CARRIER TYPE  TOTAL PASSENGERS\n",
       "0  2015      1        1            10           1.0          533096.0\n",
       "1  2015      1        1            11           1.0          212181.0\n",
       "2  2015      1        1            45           1.0          142324.0\n",
       "3  2015      1        1            50           1.0          652969.0\n",
       "4  2015      1        1            81           1.0           80350.0"
      ]
     },
     "execution_count": 46,
     "metadata": {},
     "output_type": "execute_result"
    }
   ],
   "source": [
    "data.head()"
   ]
  },
  {
   "cell_type": "code",
   "execution_count": 47,
   "id": "dfc47241",
   "metadata": {},
   "outputs": [
    {
     "name": "stdout",
     "output_type": "stream",
     "text": [
      "{'AEROFLOT': 0, 'AEROLOGIC': 1, 'AIR ARABIA': 2, 'AIR ASIA BERHAD': 3, 'AIR ASIA X': 4, 'AIR ASTANA': 5, 'AIR AUSTRAL': 6, 'AIR CANADA': 7, 'AIR CHINA': 8, 'AIR FRANCE': 9, 'AIR INDIA': 10, 'AIR INDIA EXPRESS': 11, 'AIR MANAS': 12, 'AIR MAURITIUS': 13, 'AIR SEYCHELLES': 14, 'ALL NIPPON AIRWAYS': 15, 'ARIANA AFGHAN': 16, 'ASIANA AIRLINES': 17, 'AUSTRIAN AIRLINES': 18, 'BANGKOK AIRWAYS': 19, 'BHUTAN AIRLINES': 20, 'BIMAN BANGLADESH': 21, 'BRITISH AIRWAYS': 22, 'BRUSSELS AIRLINES': 23, 'BUDDHA AIR': 24, 'BUDHHA AIR': 25, 'CARGOLUX AIRLINES INTERNATIONAL S.A.': 26, 'CATHAY PACIFIC': 27, 'CHINA AIRLINES LTD': 28, 'CHINA EASTERN AIRLINES': 29, 'CHINA SOUTHERN ': 30, 'DELTA AIRLINES': 31, 'DRAGON AIR': 32, 'DRUK AIR': 33, 'EGYPT AIR': 34, 'EL-AL-ISRAEL': 35, 'EMIRATES AIRLINE': 36, 'ETHIOPIAN AIRLINES': 37, 'ETIHAD AIRLINES': 38, 'EVA AIRWAYS': 39, 'FEDERAL EXPRESS': 40, 'FINN AIR': 41, 'FLY DUBAI': 42, 'GARUDA INDONESIA': 43, 'GULF AIR': 44, 'INDIGO': 45, 'IRAN AIR': 46, 'IRAQI AIRWAYS': 47, 'ISLAND AVIATION SERVICES': 48, 'JAPAN AIRLINES': 49, 'JET AIRWAYS': 50, 'KALITTA AIR': 51, 'KAM AIR': 52, 'KENYA AIRWAYS': 53, 'KLM AIRLINES': 54, 'KOREAN AIR': 55, 'KUWAIT AIRWAYS': 56, 'LUFTHANSA': 57, 'MAHAN AIR': 58, 'MALAYSIA AIRLINES': 59, 'MALINDO AIRWAYS': 60, 'MARTIN AIR HOLLAND': 61, 'MEGA MALDIVES AIRLINES': 62, 'MIHIN LANKA': 63, 'MYANMAR AIRLINES': 64, 'NEPAL AIRLINES CORPORATION': 65, 'NOVO AIR': 66, 'OMAN AIR': 67, 'PAK INTERNATIONAL': 68, 'QATAR AIRWATYS': 69, 'QATAR AIRWAYS': 70, 'REGENT AIRWAYS': 71, 'ROSSIYA AIRLINES': 72, 'SAFI AIRWAYS': 73, 'SAUDIA': 74, 'SCAT AIRLINES': 75, 'SCOOT PTE LTD.': 76, 'SHANDONG AIRLINES': 77, 'SILK AIR': 78, 'SINGAPORE AIRLINES': 79, 'SOUTHA AFRICAN AIRLINES': 80, 'SPICEJET': 81, 'SRILNKAN AIRWAYS': 82, 'SWISS AIR': 83, 'TAJIK AIR': 84, 'THAI AIR ASIA': 85, 'THAI AIRWAYS': 86, 'THAI SMILE AIRWAYS': 87, 'THOMAS COOK AIRLINES U.K.': 88, 'TIGER AIRWAYS': 89, 'TRANSAERO AIRLINES': 90, 'TURKISH AIRLINES': 91, 'TURKMENISTAN AIRLINES': 92, 'UNITED AIRLINES': 93, 'UNITED AIRLINES BANGLADESH LTD.': 94, 'UNITED PARCEL SERVICES': 95, 'US BANGLA AIRLINES': 96, 'UZBEKISTAN AIRWAYS': 97, 'VIRGIN ATLANTIC AIRLINES': 98, 'YEMENIA AIRWAYS': 99}\n"
     ]
    }
   ],
   "source": [
    "print(airline_mapping)"
   ]
  },
  {
   "cell_type": "code",
   "execution_count": null,
   "id": "5128f3b5",
   "metadata": {},
   "outputs": [],
   "source": []
  }
 ],
 "metadata": {
  "kernelspec": {
   "display_name": "base",
   "language": "python",
   "name": "python3"
  },
  "language_info": {
   "codemirror_mode": {
    "name": "ipython",
    "version": 3
   },
   "file_extension": ".py",
   "mimetype": "text/x-python",
   "name": "python",
   "nbconvert_exporter": "python",
   "pygments_lexer": "ipython3",
   "version": "3.12.7"
  }
 },
 "nbformat": 4,
 "nbformat_minor": 5
}
